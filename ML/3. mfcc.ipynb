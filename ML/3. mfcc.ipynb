{
 "cells": [
  {
   "cell_type": "code",
   "execution_count": 1,
   "id": "08baf1be-c965-4b67-9534-5c89c5e50e8f",
   "metadata": {},
   "outputs": [],
   "source": [
    "import os\n",
    "import pandas as pd\n",
    "import librosa\n",
    "import soundfile as SF\n",
    "import pickle"
   ]
  },
  {
   "cell_type": "code",
   "execution_count": 3,
   "id": "20187658-8365-4f43-8989-dc9fb23cd5bf",
   "metadata": {},
   "outputs": [
    {
     "ename": "EOFError",
     "evalue": "Ran out of input",
     "output_type": "error",
     "traceback": [
      "\u001b[0;31m---------------------------------------------------------------------------\u001b[0m",
      "\u001b[0;31mEOFError\u001b[0m                                  Traceback (most recent call last)",
      "Cell \u001b[0;32mIn[3], line 2\u001b[0m\n\u001b[1;32m      1\u001b[0m \u001b[38;5;28;01mwith\u001b[39;00m \u001b[38;5;28mopen\u001b[39m(\u001b[38;5;124m'\u001b[39m\u001b[38;5;124msegmented_df.pkl\u001b[39m\u001b[38;5;124m'\u001b[39m, \u001b[38;5;124m'\u001b[39m\u001b[38;5;124mrb\u001b[39m\u001b[38;5;124m'\u001b[39m) \u001b[38;5;28;01mas\u001b[39;00m f:\n\u001b[0;32m----> 2\u001b[0m     seg_df \u001b[38;5;241m=\u001b[39m \u001b[43mpickle\u001b[49m\u001b[38;5;241;43m.\u001b[39;49m\u001b[43mload\u001b[49m\u001b[43m(\u001b[49m\u001b[43mf\u001b[49m\u001b[43m)\u001b[49m\n\u001b[1;32m      3\u001b[0m seg_df\n",
      "\u001b[0;31mEOFError\u001b[0m: Ran out of input"
     ]
    }
   ],
   "source": [
    "with open('segmented_df.pkl', 'rb') as f:\n",
    "    seg_df = pickle.load(f)\n",
    "seg_df"
   ]
  },
  {
   "cell_type": "code",
   "execution_count": 3,
   "id": "543500e4-7ffc-4e1c-943a-b46546c26aaf",
   "metadata": {},
   "outputs": [
    {
     "data": {
      "text/plain": [
       "(30386, 2)"
      ]
     },
     "execution_count": 3,
     "metadata": {},
     "output_type": "execute_result"
    }
   ],
   "source": [
    "seg_df.shape"
   ]
  },
  {
   "cell_type": "code",
   "execution_count": 8,
   "id": "650f3dc8-d253-4291-92f5-a05c9823731b",
   "metadata": {},
   "outputs": [
    {
     "data": {
      "text/html": [
       "<div>\n",
       "<style scoped>\n",
       "    .dataframe tbody tr th:only-of-type {\n",
       "        vertical-align: middle;\n",
       "    }\n",
       "\n",
       "    .dataframe tbody tr th {\n",
       "        vertical-align: top;\n",
       "    }\n",
       "\n",
       "    .dataframe thead th {\n",
       "        text-align: right;\n",
       "    }\n",
       "</style>\n",
       "<table border=\"1\" class=\"dataframe\">\n",
       "  <thead>\n",
       "    <tr style=\"text-align: right;\">\n",
       "      <th></th>\n",
       "      <th>segmented_audio</th>\n",
       "      <th>language_tag</th>\n",
       "    </tr>\n",
       "  </thead>\n",
       "  <tbody>\n",
       "    <tr>\n",
       "      <th>0</th>\n",
       "      <td>/Users/lavanya/Library/CloudStorage/OneDrive-J...</td>\n",
       "      <td>English</td>\n",
       "    </tr>\n",
       "    <tr>\n",
       "      <th>1</th>\n",
       "      <td>/Users/lavanya/Library/CloudStorage/OneDrive-J...</td>\n",
       "      <td>English</td>\n",
       "    </tr>\n",
       "    <tr>\n",
       "      <th>2</th>\n",
       "      <td>/Users/lavanya/Library/CloudStorage/OneDrive-J...</td>\n",
       "      <td>English</td>\n",
       "    </tr>\n",
       "    <tr>\n",
       "      <th>3</th>\n",
       "      <td>/Users/lavanya/Library/CloudStorage/OneDrive-J...</td>\n",
       "      <td>English</td>\n",
       "    </tr>\n",
       "    <tr>\n",
       "      <th>4</th>\n",
       "      <td>/Users/lavanya/Library/CloudStorage/OneDrive-J...</td>\n",
       "      <td>English</td>\n",
       "    </tr>\n",
       "  </tbody>\n",
       "</table>\n",
       "</div>"
      ],
      "text/plain": [
       "                                     segmented_audio language_tag\n",
       "0  /Users/lavanya/Library/CloudStorage/OneDrive-J...      English\n",
       "1  /Users/lavanya/Library/CloudStorage/OneDrive-J...      English\n",
       "2  /Users/lavanya/Library/CloudStorage/OneDrive-J...      English\n",
       "3  /Users/lavanya/Library/CloudStorage/OneDrive-J...      English\n",
       "4  /Users/lavanya/Library/CloudStorage/OneDrive-J...      English"
      ]
     },
     "execution_count": 8,
     "metadata": {},
     "output_type": "execute_result"
    }
   ],
   "source": [
    "segmented_df_filtered = seg_df[seg_df['language_tag'].isin(['English', 'Mandarin'])]\n",
    "segmented_df_filtered.head()\n"
   ]
  },
  {
   "cell_type": "code",
   "execution_count": 9,
   "id": "7b21f496-3b76-4209-b5d6-1ea41237044e",
   "metadata": {},
   "outputs": [
    {
     "data": {
      "text/plain": [
       "(25143, 2)"
      ]
     },
     "execution_count": 9,
     "metadata": {},
     "output_type": "execute_result"
    }
   ],
   "source": [
    "segmented_df_filtered.shape"
   ]
  },
  {
   "cell_type": "code",
   "execution_count": 10,
   "id": "2d65045b-93b0-427c-9a03-8b30f3551de7",
   "metadata": {},
   "outputs": [
    {
     "name": "stderr",
     "output_type": "stream",
     "text": [
      "16it [00:03,  6.70it/s]/opt/anaconda3/lib/python3.11/site-packages/librosa/core/spectrum.py:266: UserWarning: n_fft=2048 is too large for input signal of length=0\n",
      "  warnings.warn(\n",
      "1454it [00:21, 32.64it/s] /opt/anaconda3/lib/python3.11/site-packages/librosa/core/spectrum.py:266: UserWarning: n_fft=2048 is too large for input signal of length=1517\n",
      "  warnings.warn(\n",
      "3168it [00:40, 127.69it/s]/opt/anaconda3/lib/python3.11/site-packages/librosa/core/spectrum.py:266: UserWarning: n_fft=2048 is too large for input signal of length=1981\n",
      "  warnings.warn(\n",
      "14518it [01:25, 190.54it/s]/opt/anaconda3/lib/python3.11/site-packages/librosa/core/spectrum.py:266: UserWarning: n_fft=2048 is too large for input signal of length=957\n",
      "  warnings.warn(\n",
      "18299it [01:35, 365.64it/s]/opt/anaconda3/lib/python3.11/site-packages/librosa/core/spectrum.py:266: UserWarning: n_fft=2048 is too large for input signal of length=1021\n",
      "  warnings.warn(\n",
      "25143it [01:53, 221.61it/s]\n"
     ]
    }
   ],
   "source": [
    "from tqdm import tqdm\n",
    "import numpy as np\n",
    "# List containing all the features\n",
    "features_list = []\n",
    "\n",
    "# Iterate through each row in the CSV\n",
    "for index_num, row in tqdm(segmented_df_filtered.iterrows()):\n",
    "    # Get the file path\n",
    "    file_path = row['segmented_audio']\n",
    "    # Get the file label\n",
    "    label = row[\"language_tag\"]\n",
    "    # Load the audio file\n",
    "    audio, sample_rate = librosa.load(file_path, sr=None)\n",
    "    # Extract the features\n",
    "    mfcc_features = librosa.feature.mfcc(y=audio, sr=sample_rate, n_mfcc=128)\n",
    "    # Scale the features\n",
    "    scaled_features = np.mean(mfcc_features.T, axis=0)\n",
    "    # Store the features and label in a list\n",
    "    features_list.append([scaled_features, label])\n"
   ]
  },
  {
   "cell_type": "code",
   "execution_count": 13,
   "id": "1ebad2cf-6f9f-4d1b-b54d-865bb679611b",
   "metadata": {},
   "outputs": [
    {
     "data": {
      "text/html": [
       "<div>\n",
       "<style scoped>\n",
       "    .dataframe tbody tr th:only-of-type {\n",
       "        vertical-align: middle;\n",
       "    }\n",
       "\n",
       "    .dataframe tbody tr th {\n",
       "        vertical-align: top;\n",
       "    }\n",
       "\n",
       "    .dataframe thead th {\n",
       "        text-align: right;\n",
       "    }\n",
       "</style>\n",
       "<table border=\"1\" class=\"dataframe\">\n",
       "  <thead>\n",
       "    <tr style=\"text-align: right;\">\n",
       "      <th></th>\n",
       "      <th>mfcc</th>\n",
       "      <th>lid</th>\n",
       "    </tr>\n",
       "  </thead>\n",
       "  <tbody>\n",
       "    <tr>\n",
       "      <th>0</th>\n",
       "      <td>[-316.4025, 51.993893, -5.441557, 24.329988, -...</td>\n",
       "      <td>English</td>\n",
       "    </tr>\n",
       "    <tr>\n",
       "      <th>1</th>\n",
       "      <td>[-331.22867, 57.39261, 35.49835, 22.748735, -2...</td>\n",
       "      <td>English</td>\n",
       "    </tr>\n",
       "    <tr>\n",
       "      <th>2</th>\n",
       "      <td>[-296.94348, 85.79683, 39.07395, 38.0264, -43....</td>\n",
       "      <td>English</td>\n",
       "    </tr>\n",
       "    <tr>\n",
       "      <th>3</th>\n",
       "      <td>[-309.9375, 99.889656, 28.980875, 3.6897616, -...</td>\n",
       "      <td>English</td>\n",
       "    </tr>\n",
       "    <tr>\n",
       "      <th>4</th>\n",
       "      <td>[-394.24957, 122.84597, 25.030313, 7.167557, -...</td>\n",
       "      <td>English</td>\n",
       "    </tr>\n",
       "  </tbody>\n",
       "</table>\n",
       "</div>"
      ],
      "text/plain": [
       "                                                mfcc      lid\n",
       "0  [-316.4025, 51.993893, -5.441557, 24.329988, -...  English\n",
       "1  [-331.22867, 57.39261, 35.49835, 22.748735, -2...  English\n",
       "2  [-296.94348, 85.79683, 39.07395, 38.0264, -43....  English\n",
       "3  [-309.9375, 99.889656, 28.980875, 3.6897616, -...  English\n",
       "4  [-394.24957, 122.84597, 25.030313, 7.167557, -...  English"
      ]
     },
     "execution_count": 13,
     "metadata": {},
     "output_type": "execute_result"
    }
   ],
   "source": [
    "# create a new dataframe\n",
    "final_df = pd.DataFrame(features_list, columns=[\"mfcc\", \"lid\"])\n",
    "final_df.to_pickle(\"mfcc.pkl\")\n",
    "final_df.head()"
   ]
  },
  {
   "cell_type": "code",
   "execution_count": 14,
   "id": "759e1417-5456-4679-96db-c278b47b77ab",
   "metadata": {},
   "outputs": [
    {
     "data": {
      "text/plain": [
       "(25143, 2)"
      ]
     },
     "execution_count": 14,
     "metadata": {},
     "output_type": "execute_result"
    }
   ],
   "source": [
    "final_df.shape"
   ]
  },
  {
   "cell_type": "code",
   "execution_count": null,
   "id": "b682c6e0-5dcb-4505-a0a2-2e38f02a04c9",
   "metadata": {},
   "outputs": [],
   "source": []
  }
 ],
 "metadata": {
  "kernelspec": {
   "display_name": "Python 3 (ipykernel)",
   "language": "python",
   "name": "python3"
  },
  "language_info": {
   "codemirror_mode": {
    "name": "ipython",
    "version": 3
   },
   "file_extension": ".py",
   "mimetype": "text/x-python",
   "name": "python",
   "nbconvert_exporter": "python",
   "pygments_lexer": "ipython3",
   "version": "3.8.19"
  }
 },
 "nbformat": 4,
 "nbformat_minor": 5
}
